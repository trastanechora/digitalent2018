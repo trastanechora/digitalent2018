{
 "cells": [
  {
   "cell_type": "markdown",
   "metadata": {},
   "source": [
    "<table style=\"float: right\">\n",
    "    <tr></tr>\n",
    "    <tr>\n",
    "        <td><img src=\"https://digitalent.kominfo.go.id/res/kampus-kominfo.clr.png\" style=\"width: 30px;\"></td>\n",
    "        <td><img src=\"https://digitalent.kominfo.go.id/res/kampus-its.clr.png\" style=\"width: 30px;\"></td>\n",
    "        <td><img src=\"https://img-prod-cms-rt-microsoft-com.akamaized.net/cms/api/am/imageFileData/RE1Mu3b?ver=5c31\" style=\"width: 80px;\"></td>\n",
    "    </tr>\n",
    "</table>\n",
    "<br><br>\n",
    "<p style=\"text-align: right\"><i>Dirangkum oleh: <a href=\"https://www.linkedin.com/in/trastanechora/\" style=\"color: green;\"><strong>Maestro Trastanechora</strong></a></i></p>"
   ]
  },
  {
   "cell_type": "markdown",
   "metadata": {},
   "source": [
    "<hr>\n",
    "<p style=\"font-size: 10px\">Download catatan .ipynb atau HTML via <a href=\"https://drive.google.com/drive/folders/1Bo-FOqeZhzbVNjeVI97hXpR8RkhkwYEP?usp=sharing\"><strong>Google Drive</strong></a> atau <a href=\"https://github.com/trastanechora/digitalent2018\"><strong>GitHub</strong></a> <br>\n",
    "Or share it online with love via <a href=\"https://nbviewer.jupyter.org/github/trastanechora/digitalent2018/blob/master/01.%20Accuracy%20and%20Precision/Accuracy%20and%20Precision.ipynb\"><strong>this link :)</strong></a></p>\n",
    "\n",
    "<br>\n",
    "\n",
    "<h1 style=\"text-align: center\">Accuracy dan Precision</h1>\n",
    "<p style=\"text-align: right\">03-11-2018</p>\n",
    "\n",
    "<br>\n",
    "<hr>\n",
    "\n",
    "<p style=\"text-align: justify\">Dalam “dunia” pengenalan pola (pattern recognition) dan temu kembali informasi (information retrieval), <strong>precision dan recall adalah dua perhitungan yang banyak digunakan untuk mengukur kinerja dari sistem / metode yang digunakan. Precision adalah tingkat ketepatan antara informasi yang diminta oleh pengguna dengan jawaban yang diberikan oleh sistem</strong>. Sedangkan <strong>recall adalah tingkat keberhasilan sistem dalam menemukan kembali sebuah informasi.</strong></p>\n",
    "\n",
    "<p style=\"text-align: justify\">Sedangkan di “dunia lain” seperti dunia statistika dikenal juga istilah accuray. <strong>Accuracy didefinisikan sebagai tingkat kedekatan antara nilai prediksi dengan nilai aktual</strong>.</p>"
   ]
  },
  {
   "cell_type": "markdown",
   "metadata": {},
   "source": [
    "<img src=\"https://dataq.files.wordpress.com/2013/06/akurasi_presisi.jpg\">"
   ]
  },
  {
   "cell_type": "markdown",
   "metadata": {},
   "source": [
    "<p style=\"text-align: justify\">Agar lebih jelas, mari kita bahas dengan menggunakan contoh.</p>\n",
    "\n",
    "<p style=\"text-align: justify\">Misalkan kita ingin mengukur kinerja dari sebuah mesin pemisah ikan yang bertugas memisahkan ikan-ikan salmon dari semua ikan yang telah didapat. Untuk mengujinya kita akan memasukkan 100 ikan salmon dan 900 ikan lain (bukan ikan salmon). Hasilnya mesin tersebut memisahkan 110 yang dideteksi sebagai ikan salmon. Ke 110 ikan tersebut kemudian dicek kembali oleh manusia, ternyata dari 110 ikan tersebut hanya 90 ekor yang merupakan ikan salmon, sedangkan 20 lainnya merupakan ikan lain.</p>\n",
    "\n",
    "<p style=\"text-align: justify\">Dari kasus tersebut maka kita dapat simpulkan bahwa mesin tersebut memiliki precision sebesar 82%, recall sebesar 90% dan accuracy sebesar 97% yang didapatkan dari perhitungan berikut:</p>\n",
    "\n",
    "<img src=\"https://dataq.files.wordpress.com/2013/06/precision1.png\"> <br>\n",
    "<img src=\"https://dataq.files.wordpress.com/2013/06/recall2.png\"> <br>\n",
    "<img src=\"https://dataq.files.wordpress.com/2013/06/accuracy.png\"> <br>\n",
    "\n",
    "<p style=\"text-align: justify\">Secara umum precision, recall dan accuracy dapat dirumuskan sebagai berikut:</p>\n",
    "\n",
    "<img src=\"https://dataq.files.wordpress.com/2013/06/rumus.png\"> <br>\n",
    "\n",
    "<p style=\"text-align: justify\">Sehingga untuk kasus mesin pemisah ikan diatas dapat dituliskan sebagai berikut:</p>\n",
    "\n",
    "<img src=\"https://dataq.files.wordpress.com/2013/06/kasus.png\"> <br>"
   ]
  },
  {
   "cell_type": "markdown",
   "metadata": {},
   "source": [
    "<p style=\"text-align: justify\">Oke, sekarang akan saya tunjukkan hal yang menarik. <strong>Menggunakan precision atau accuracy saja dalam sebuah mengukur kinerja dari sebuah sistem / metode bisa menimbukan bias yang sangat fatal.</strong> Sebagai contoh, misalnya dari pengujian menggunakan 100 ikan salmon dan 900 ikan lain ternyata mesin hanya memisahkan 1 ikan salmon, dan setelah dicek oleh manusia, 1 ikan tersebut benar merupakan ikan salmon. Pengujian ini dapat kita tuliskan sebagai berikut:</p>\n",
    "\n",
    "<img src=\"https://dataq.files.wordpress.com/2013/06/kasus2.png\"> <br>\n",
    "\n",
    "<p style=\"text-align: justify\">Dari hasil perhitungan kita dapatkan precision sebesar 100% dan accuracy sebesar 90.1%. Sekilas tampak baik, namun perhatikan nilai recall yang hanya sebesar 1%. Hal ini menunjukkan bahwa sistem hanya dapat memisahkan ikan salmon dalam jumlah yang sedikit sekali dan masih banyak ikan-ikan salmon yang lolos dari pemisahan.</p>\n",
    "\n",
    "<p style=\"text-align: justify\">Bila digambarkan, kasus pengujian mesin pemisah ikan ini dapat digambarkan seperti ini:</p>\n",
    "\n",
    "<img src=\"https://dataq.files.wordpress.com/2013/06/salmon-ven1.png\"> <br>\n",
    "\n",
    "<p style=\"text-align: justify\">Jadi dalam mengukur kinerja dari sebuah sistem / metode dalam pengenalan pola atau temu kembali informasi disarankan menggunakan minimal dua parameter yaitu precision dan recall untuk mendeteksi bias seperti pada kasus diatas.</p>\n",
    "\n",
    "<hr>"
   ]
  },
  {
   "cell_type": "markdown",
   "metadata": {},
   "source": [
    "<h4>Sumber referensi:</h4>\n",
    "<ul style=\"font-size: 12px\">\n",
    "    <li>https://www.kaggle.com/mjbahmani/20-ml-algorithms-from-start-to-finish/notebook</li>\n",
    "    <li>https://dataq.wordpress.com/2013/06/16/perbedaan-precision-recall-accuracy/</li>\n",
    "</ul>\n",
    "\n",
    "<hr>\n",
    "\n",
    "<p style=\"color: purple\"><strong><i>Very important note:</i></strong><br/>Bagi teman-teman yang mengalami kendala memahami materi atau bagi yang ingin sekedar sharing ilmu pengetahuan teknis mengenai apa yang kita pelajari di kelas, mari sempatkan sesekali hadir di kegiatan diskusi luar kelas. Hubungi ketua kelas untuk informasi lebih lanjut! <i>We will be so happy to have you</i> :)</p>"
   ]
  },
  {
   "cell_type": "code",
   "execution_count": null,
   "metadata": {},
   "outputs": [],
   "source": []
  }
 ],
 "metadata": {
  "kernelspec": {
   "display_name": "Python 3",
   "language": "python",
   "name": "python3"
  },
  "language_info": {
   "codemirror_mode": {
    "name": "ipython",
    "version": 3
   },
   "file_extension": ".py",
   "mimetype": "text/x-python",
   "name": "python",
   "nbconvert_exporter": "python",
   "pygments_lexer": "ipython3",
   "version": "3.6.7"
  }
 },
 "nbformat": 4,
 "nbformat_minor": 2
}
