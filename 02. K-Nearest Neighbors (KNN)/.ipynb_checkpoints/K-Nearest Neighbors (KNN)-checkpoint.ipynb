{
 "cells": [
  {
   "cell_type": "markdown",
   "metadata": {},
   "source": [
    "<table style=\"float: right\">\n",
    "    <tr></tr>\n",
    "    <tr>\n",
    "        <td><img src=\"https://digitalent.kominfo.go.id/res/kampus-kominfo.clr.png\" style=\"width: 30px;\"></td>\n",
    "        <td><img src=\"https://digitalent.kominfo.go.id/res/kampus-its.clr.png\" style=\"width: 30px;\"></td>\n",
    "        <td><img src=\"https://img-prod-cms-rt-microsoft-com.akamaized.net/cms/api/am/imageFileData/RE1Mu3b?ver=5c31\" style=\"width: 80px;\"></td>\n",
    "    </tr>\n",
    "</table>\n",
    "<br><br>\n",
    "<p style=\"text-align: right\"><i>Dirangkum oleh: <a href=\"https://www.linkedin.com/in/trastanechora/\" style=\"color: green;\"><strong>Maestro Trastanechora</strong></a></i></p>"
   ]
  },
  {
   "cell_type": "markdown",
   "metadata": {},
   "source": [
    "<hr>\n",
    "<p style=\"font-size: 10px\">Download catatan .ipynb atau HTML via <a href=\"https://drive.google.com/drive/folders/1Bo-FOqeZhzbVNjeVI97hXpR8RkhkwYEP?usp=sharing\"><strong>Google Drive</strong></a> atau <a href=\"https://github.com/trastanechora/digitalent2018\"><strong>GitHub</strong></a> <br>\n",
    "Or share it online with love via <a href=\"https://nbviewer.jupyter.org/github/trastanechora/digitalent2018/blob/master/02.%20K-Nearest%20Neighbors%20%28KNN%29/K-Nearest%20Neighbors%20%28KNN%29.ipynb\"><strong>this link :)</strong></a></p>\n",
    "\n",
    "<br>\n",
    "\n",
    "<h1 style=\"text-align: center\">K-Nearest Neighbors (KNN)</h1>\n",
    "<p style=\"text-align: right\">04-11-2018</p>\n",
    "\n",
    "<br>\n",
    "<hr>"
   ]
  },
  {
   "cell_type": "markdown",
   "metadata": {},
   "source": [
    "<p style=\"text-align: justify\">K-nearest neighbors atau knn adalah algoritma yang berfungsi untuk melakukan klasifikasi suatu data berdasarkan data pembelajaran (train data sets), yang diambil dari k tetangga terdekatnya (nearest neighbors). Dengan k merupakan banyaknya tetangga terdekat.</p>\n",
    "\n",
    "<p style=\"text-align: justify\">K-nerest neaighbors melakukan klasifikasi dengan proyeksi data pembelajaran pada ruang berdimensi banyak. Ruang ini dibagi menjadi bagian-bagian yang merepresentasikan kriteria data pembelajaran. Setiap data pembelajaran direpresentasikan menjadi titik-titik c pada ruang dimensi banyak.</p>\n",
    "\n",
    "<h3>Klasifikasi Terdekat (Nearest Neighbor Classification)</h3>\n",
    "\n",
    "<p style=\"text-align: justify\"><strong>Data baru</strong> yang diklasifikasi selanjutnya diproyeksikan pada ruang dimensi banyak yang telah memuat titik-titik c data pembelajaran. Proses klasifasikasi dilakukan dengan mencari titik c terdekat dari c-baru (nearest neighbor). Teknik pencarian tetangga terdekat yang umum dilakukan dengan menggunakan formula jarak euclidean. Berikut beberapa formula yang digunakan dalam algoritma knn.</p>\n",
    "\n",
    "<ul>\n",
    "    <li>Euclidean Distance\n",
    "        <p style=\"text-align: justify\">Jarak Euclidean adalah formula untuk mencari jarak antara 2 titik dalam ruang dua dimensi.</p>\n",
    "        <img src=\"https://www.advernesia.com/wp-content/uploads/2018/05/euclidean.png\">\n",
    "    </li>\n",
    "    <li>Hamming Distance\n",
    "        <p style=\"text-align: justify\">Jarak Hamming adalah cara mencari jarak antar 2 titik yang dihitung dengan panjang vektor biner yang dibentuk oleh dua titik tersebut dalam block kode biner.</p>\n",
    "    </li>\n",
    "    <li>Manhattan Distance\n",
    "        <p style=\"text-align: justify\">Manhattan Distance atau Taxicab Geometri adalah formula untuk mencari jarak d antar 2 vektor p,q pada ruang dimensi n.</p>\n",
    "    </li>\n",
    "    <li>Minkowski Distance\n",
    "        <p style=\"text-align: justify\">Minkowski distance adalah formula pengukuran antar 2 titik pada ruang vektor normal yang merupakan hibridisasi yang mengeneralisasi euclidean distance dan mahattan distance.</p>\n",
    "    </li>\n",
    "</ul>\n",
    "\n",
    "<p style=\"text-align: justify\">Teknik pencarian tetangga terdekat disesuaikan dengan dimensi data, proyeksi, dan kemudahan implementasi oleh pengguna.\n",
    "</p>"
   ]
  },
  {
   "cell_type": "markdown",
   "metadata": {},
   "source": [
    "<h3>Banyaknya k Tetangga Terdekat</h3>\n",
    "\n",
    "<p style=\"text-align: justify\">Untuk menggunakan algoritma k nearest neighbors, perlu ditentukan banyaknya k tetangga terdekat yang digunakan untuk melakukan klasifikasi data baru. Banyaknya k, sebaiknya merupakan angka ganjil, misalnya k = 1, 3, 5, dan seterusnya. Penentuan nilai k dipertimbangkan berdasarkan banyaknya data yang ada dan ukuran dimensi yang dibentuk oleh data. Semakin banyak data yang ada, angka k yang dipilih sebaiknya semakin rendah. Namun, semakin besar ukuran dimensi data, angka k yang dipilih sebaiknya semakin tinggi.</p>\n",
    "\n",
    "<h4>Algoritma K-Nearest Neighbors</h4>\n",
    "\n",
    "<ol>\n",
    "    <li>Tentukan k bilangan bulat positif berdasarkan ketersediaan data pembelajaran.</li>\n",
    "    <li>Pilih tetangga terdekat dari data baru sebanyak k.</li>\n",
    "    <li>Tentukan klasifikasi paling umum pada langkah (ii), dengan menggunakan frekuensi terbanyak.</li>\n",
    "    <li>Keluaran klasifikasi dari data sampel baru.</li>\n",
    "</ol>\n",
    "\n",
    "<hr/>\n",
    "\n",
    "<h3>Contoh Aplikasi K Nearest Neighbor</h3>\n",
    "\n",
    "<p style=\"text-align: justify\">Contoh berikut diambil dari buku <strong>“Data Science Algorithms in a Week”</strong> yang ditulis oleh  Dávid Natingga.</p>\n",
    "\n",
    "<p style=\"text-align: justify\">Pada contoh ini, dilakukan klasifikasi suhu udara berdasarkan persepsi seseorang yang bernama Marry. Adapun klasifikasi suhu udara terdiri dari 2 persepsi yaitu <strong>Panas</strong> dan <strong>Dingin</strong>. Persepsi ini dapat diukur berdasarkan 2 variabel yaitu <strong>temperatur dalam derajat celcius</strong> dan <strong>kecepatan angin dalam km/h</strong>. Diperoleh data berikut,</p>\n"
   ]
  },
  {
   "cell_type": "markdown",
   "metadata": {},
   "source": [
    "<table>\n",
    "  <tr>\n",
    "    <th>Temperatur Udara (ºC)</th>\n",
    "    <th>Kecepatan Angin (km/jam)</th>\n",
    "    <th>Klasifikasi atau Persepsi Marry</th>\n",
    "  </tr>\n",
    "  <tr>\n",
    "    <td>10</td>\n",
    "    <td>0</td>\n",
    "    <td>Dingin</td>\n",
    "  </tr>\n",
    "  <tr>\n",
    "    <td>25</td>\n",
    "    <td>0</td>\n",
    "    <td>Panas</td>\n",
    "  </tr>\n",
    "  <tr>\n",
    "    <td>15</td>\n",
    "    <td>5</td>\n",
    "    <td>Dingin</td>\n",
    "  </tr>\n",
    "  <tr>\n",
    "    <td>20</td>\n",
    "    <td>3</td>\n",
    "    <td>Panas</td>\n",
    "  </tr>\n",
    "  <tr>\n",
    "    <td>18</td>\n",
    "    <td>7</td>\n",
    "    <td>Dingin</td>\n",
    "  </tr>\n",
    "  <tr>\n",
    "    <td>20</td>\n",
    "    <td>10</td>\n",
    "    <td>Dingin</td>\n",
    "  </tr>\n",
    "  <tr>\n",
    "    <td>22</td>\n",
    "    <td>5</td>\n",
    "    <td>Panas</td>\n",
    "  </tr>\n",
    "  <tr>\n",
    "    <td>24</td>\n",
    "    <td>6</td>\n",
    "    <td>Panas</td>\n",
    "  </tr>\n",
    "</table>"
   ]
  },
  {
   "cell_type": "markdown",
   "metadata": {},
   "source": [
    "<p style=\"text-align: justify\">Untuk contoh ini terbentuk ruang dimensi 2, yang berisi 2 kriteria yaitu <strong>temperatur udara</strong> dan <strong>kecepatan angin</strong>.</p>\n",
    "\n",
    "<img src=\"https://www.advernesia.com/wp-content/uploads/2018/04/Proyeksi-dimensi-banyak.png\">\n",
    "\n",
    "<p style=\"text-align: justify\">Pada proyeksi di atas sumbu vertikal adalah kecepatan angin, sumbu horizontal adalah temperatur suhu, warna biru adalah dingin, dan warna merah adalah panas.</strong> dan <strong>kecepatan angin</strong>.</p>\n",
    "\n",
    "<p style=\"text-align: justify\">Dari proyeksi diatas, dapat dilakukan klasifikasi data baru. Misalnya, Bagaimana persepsi Marry saat temperatur udara 16°C dan kecepatan angin 3km/jam.</p>\n",
    "\n",
    "<img src=\"https://www.advernesia.com/wp-content/uploads/2018/04/klasifikasi-dengan-knn.png\">\n",
    "\n",
    "<p style=\"text-align: justify\">Proses pencarian tetangga terdekat</p>\n",
    "\n",
    "<img src=\"https://www.advernesia.com/wp-content/uploads/2018/04/Menghitung-jarak-terdekat-antar-titik.png\">\n",
    "\n",
    "<p style=\"text-align: justify\">Dapat diketahui tetangga terdekatnya adalah titik <strong><i>c dingin</i></strong> dengan temperature 15°C dan kecepatan angin 5km/jam. Jadi berdasarkan pemilihan k = 1, klasifikasinya adalah <strong>dingin</strong>.</p>\n",
    "\n",
    "<p style=\"text-align: justify\">Dengan melakukan proses di atas terhadap semua titik, diperoleh proyeksi klasifikasi berikut.</p>\n",
    "\n",
    "<img src=\"https://www.advernesia.com/wp-content/uploads/2018/04/proyeksi-klasifikasi.png\">\n",
    "\n",
    "<p style=\"text-align: justify\"><i>Catatan: Untuk pemilihan k lainnya, hasil klasifikasi ditentukan dengan frekuensi terbanyak. Misalnya k = 3, dengan titik terdekat dingin, panas, dingin. Hasil klasifikasi data baru tersebut adalah dingin.</i></p>\n",
    "<hr />\n",
    "<br>\n",
    "<hr>"
   ]
  },
  {
   "cell_type": "markdown",
   "metadata": {},
   "source": [
    "<h3>**Bonus** <i>Freestyle Practice</i> Mencari Distance~</h3>\n",
    "\n",
    "<p style=\"text-align: justify\">Dari data temperatur udara dan kecepatan angin yang ada di atas, kita akan mencoba mencari Nearest Neighbor dari masing-masing elemen. Di sini datanya sudah terklasifikasi ke \"Panas\" dan \"Dingin\" sehingga kita hanya akan mencari jaraknya saja.</p>\n",
    "\n",
    "<p style=\"text-align: justify\">Langkah awalnya kita akan membuat tiruan dataset tabel di atas dengan menggunakan list:</p>"
   ]
  },
  {
   "cell_type": "code",
   "execution_count": 27,
   "metadata": {},
   "outputs": [],
   "source": [
    "sampelData = [\n",
    "    [10, 0, 'Dingin'],\n",
    "    [25, 0, 'Panas'],\n",
    "    [15, 5, 'Dingin'],\n",
    "    [20, 3, 'Panas'],\n",
    "    [18, 7, 'Dingin'],\n",
    "    [20, 10, 'Dingin'],\n",
    "    [22, 5, 'Panas'],\n",
    "    [24, 6, 'Panas']]\n",
    "\n",
    "header = 'Temperatur Udara (ºC)','Kecepatan Angin (km/jam)', 'Klasifikasi atau Persepsi Marry'"
   ]
  },
  {
   "cell_type": "markdown",
   "metadata": {},
   "source": [
    "<p style=\"text-align: justify\">Langkah selanjutnya adalah membuat dataset di atas ini menjadi dataframe dengan menggunakan Pandas, tapi sebelum itu kita harus meng-import Pandas terlebih dahulu</p>"
   ]
  },
  {
   "cell_type": "code",
   "execution_count": 41,
   "metadata": {},
   "outputs": [],
   "source": [
    "import pandas as pd\n",
    "sampel_df = pd.DataFrame(sampelData, columns = header)\n",
    "\n",
    "# Kita simpan dataframe tersebut dengan nama sampel_df; nama ini bisa diganti dengan apa saja"
   ]
  },
  {
   "cell_type": "markdown",
   "metadata": {},
   "source": [
    "<p style=\"text-align: justify\">Setelah import langsung saja kita bikin dataframe dengan menggunakan command di atas; penjelasan nilai variabel yang di dalam kurung: nilai pertama (sampelData) akan digunakan sebagai anggota data yang akan dituliskan perbaris di dalam dataframenya sedangkan setelah koma kita berikan nama kolom sesuai variabel (header) yang sudah kita tentukan.</p>\n",
    "\n",
    "<p style=\"text-align: justify\">Untuk melihat hasilnya bisa dengan cara dipanggil namanya:</p>"
   ]
  },
  {
   "cell_type": "code",
   "execution_count": 34,
   "metadata": {},
   "outputs": [
    {
     "data": {
      "text/html": [
       "<div>\n",
       "<style scoped>\n",
       "    .dataframe tbody tr th:only-of-type {\n",
       "        vertical-align: middle;\n",
       "    }\n",
       "\n",
       "    .dataframe tbody tr th {\n",
       "        vertical-align: top;\n",
       "    }\n",
       "\n",
       "    .dataframe thead th {\n",
       "        text-align: right;\n",
       "    }\n",
       "</style>\n",
       "<table border=\"1\" class=\"dataframe\">\n",
       "  <thead>\n",
       "    <tr style=\"text-align: right;\">\n",
       "      <th></th>\n",
       "      <th>Temperatur Udara (ºC)</th>\n",
       "      <th>Kecepatan Angin (km/jam)</th>\n",
       "      <th>Klasifikasi atau Persepsi Marry</th>\n",
       "    </tr>\n",
       "  </thead>\n",
       "  <tbody>\n",
       "    <tr>\n",
       "      <th>0</th>\n",
       "      <td>10</td>\n",
       "      <td>0</td>\n",
       "      <td>Dingin</td>\n",
       "    </tr>\n",
       "    <tr>\n",
       "      <th>1</th>\n",
       "      <td>25</td>\n",
       "      <td>0</td>\n",
       "      <td>Panas</td>\n",
       "    </tr>\n",
       "    <tr>\n",
       "      <th>2</th>\n",
       "      <td>15</td>\n",
       "      <td>5</td>\n",
       "      <td>Dingin</td>\n",
       "    </tr>\n",
       "    <tr>\n",
       "      <th>3</th>\n",
       "      <td>20</td>\n",
       "      <td>3</td>\n",
       "      <td>Panas</td>\n",
       "    </tr>\n",
       "    <tr>\n",
       "      <th>4</th>\n",
       "      <td>18</td>\n",
       "      <td>7</td>\n",
       "      <td>Dingin</td>\n",
       "    </tr>\n",
       "    <tr>\n",
       "      <th>5</th>\n",
       "      <td>20</td>\n",
       "      <td>10</td>\n",
       "      <td>Dingin</td>\n",
       "    </tr>\n",
       "    <tr>\n",
       "      <th>6</th>\n",
       "      <td>22</td>\n",
       "      <td>5</td>\n",
       "      <td>Panas</td>\n",
       "    </tr>\n",
       "    <tr>\n",
       "      <th>7</th>\n",
       "      <td>24</td>\n",
       "      <td>6</td>\n",
       "      <td>Panas</td>\n",
       "    </tr>\n",
       "  </tbody>\n",
       "</table>\n",
       "</div>"
      ],
      "text/plain": [
       "   Temperatur Udara (ºC)  Kecepatan Angin (km/jam)  \\\n",
       "0                     10                         0   \n",
       "1                     25                         0   \n",
       "2                     15                         5   \n",
       "3                     20                         3   \n",
       "4                     18                         7   \n",
       "5                     20                        10   \n",
       "6                     22                         5   \n",
       "7                     24                         6   \n",
       "\n",
       "  Klasifikasi atau Persepsi Marry  \n",
       "0                          Dingin  \n",
       "1                           Panas  \n",
       "2                          Dingin  \n",
       "3                           Panas  \n",
       "4                          Dingin  \n",
       "5                          Dingin  \n",
       "6                           Panas  \n",
       "7                           Panas  "
      ]
     },
     "execution_count": 34,
     "metadata": {},
     "output_type": "execute_result"
    }
   ],
   "source": [
    "sampel_df"
   ]
  },
  {
   "cell_type": "markdown",
   "metadata": {},
   "source": [
    "<p style=\"text-align: justify\">Untuk keperluan visualisasi kita bisa menggunakan Seaborn dan Matplotlib, hal pertama yang perlu dilakukan adalah mengimportnya. Kemudian kita bisa menggunakan command berikut</p>"
   ]
  },
  {
   "cell_type": "code",
   "execution_count": 40,
   "metadata": {},
   "outputs": [
    {
     "data": {
      "image/png": "[encoded data removed]",
      "text/plain": [
       "<Figure size 520.875x360 with 1 Axes>"
      ]
     },
     "metadata": {
      "needs_background": "light"
     },
     "output_type": "display_data"
    }
   ],
   "source": [
    "import seaborn as sns\n",
    "import matplotlib.pyplot as plt\n",
    "\n",
    "# Chart yang akan kita gunakan bernama Facet Grid dari Seaborn\n",
    "# hue merupakan representasi dari kelas yang sudah ada, height adalah penentu ukuran chart\n",
    "# map digunakan untuk mem-plot data-data yang ada dari kolom \"Temperatur Udara (ºC)\" dan \"Kecepatan Angin (km/jam)\"\n",
    "# add_legend() adalah method untuk menunjukan petunjuk seperti di samping kanan itu\n",
    "sns.FacetGrid(sampel_df, hue=\"Klasifikasi atau Persepsi Marry\", height=5) \\\n",
    "    .map(plt.scatter, \"Temperatur Udara (ºC)\", \"Kecepatan Angin (km/jam)\") \\\n",
    "    .add_legend()\n",
    "\n",
    "# untuk menunjukan chartnya dengan cara memanggil plt.show()\n",
    "plt.show()"
   ]
  },
  {
   "cell_type": "markdown",
   "metadata": {},
   "source": [
    "<p style=\"text-align: justify\">Ok, setelah kita mengetahui cara visualisasi dasar, kembali ke topiknya: mengukur jarak tetangga terdekat. Kita perlu bantuan dari Sklearn, langkah pertama kita import dulu modul yang bernama NearestNeighbors dari sklearn dengan command seperti berikut:</p>"
   ]
  },
  {
   "cell_type": "code",
   "execution_count": 6,
   "metadata": {},
   "outputs": [],
   "source": [
    "from sklearn.neighbors import NearestNeighbors"
   ]
  },
  {
   "cell_type": "markdown",
   "metadata": {},
   "source": [
    "<p style=\"text-align: justify\">Setelah itu kita perlu memangkas kolom yang tidak perlu terlibat dalam perhitungan, dalam kasus ini adalah kelasnya</p>"
   ]
  },
  {
   "cell_type": "code",
   "execution_count": 42,
   "metadata": {},
   "outputs": [
    {
     "data": {
      "text/html": [
       "<div>\n",
       "<style scoped>\n",
       "    .dataframe tbody tr th:only-of-type {\n",
       "        vertical-align: middle;\n",
       "    }\n",
       "\n",
       "    .dataframe tbody tr th {\n",
       "        vertical-align: top;\n",
       "    }\n",
       "\n",
       "    .dataframe thead th {\n",
       "        text-align: right;\n",
       "    }\n",
       "</style>\n",
       "<table border=\"1\" class=\"dataframe\">\n",
       "  <thead>\n",
       "    <tr style=\"text-align: right;\">\n",
       "      <th></th>\n",
       "      <th>Temperatur Udara (ºC)</th>\n",
       "      <th>Kecepatan Angin (km/jam)</th>\n",
       "    </tr>\n",
       "  </thead>\n",
       "  <tbody>\n",
       "    <tr>\n",
       "      <th>0</th>\n",
       "      <td>10</td>\n",
       "      <td>0</td>\n",
       "    </tr>\n",
       "    <tr>\n",
       "      <th>1</th>\n",
       "      <td>25</td>\n",
       "      <td>0</td>\n",
       "    </tr>\n",
       "    <tr>\n",
       "      <th>2</th>\n",
       "      <td>15</td>\n",
       "      <td>5</td>\n",
       "    </tr>\n",
       "    <tr>\n",
       "      <th>3</th>\n",
       "      <td>20</td>\n",
       "      <td>3</td>\n",
       "    </tr>\n",
       "    <tr>\n",
       "      <th>4</th>\n",
       "      <td>18</td>\n",
       "      <td>7</td>\n",
       "    </tr>\n",
       "    <tr>\n",
       "      <th>5</th>\n",
       "      <td>20</td>\n",
       "      <td>10</td>\n",
       "    </tr>\n",
       "    <tr>\n",
       "      <th>6</th>\n",
       "      <td>22</td>\n",
       "      <td>5</td>\n",
       "    </tr>\n",
       "    <tr>\n",
       "      <th>7</th>\n",
       "      <td>24</td>\n",
       "      <td>6</td>\n",
       "    </tr>\n",
       "  </tbody>\n",
       "</table>\n",
       "</div>"
      ],
      "text/plain": [
       "   Temperatur Udara (ºC)  Kecepatan Angin (km/jam)\n",
       "0                     10                         0\n",
       "1                     25                         0\n",
       "2                     15                         5\n",
       "3                     20                         3\n",
       "4                     18                         7\n",
       "5                     20                        10\n",
       "6                     22                         5\n",
       "7                     24                         6"
      ]
     },
     "execution_count": 42,
     "metadata": {},
     "output_type": "execute_result"
    }
   ],
   "source": [
    "measurement = sampel_df.iloc[:,:-1]\n",
    "# .iloc digunakan untuk memangkas dataframe (trim)\n",
    "# value di dalam kurung siku menyatakan awal dan value selanjutnya setelah koma adalah akhir\n",
    "# - (minus) menyatakan hitungan dari belakang\n",
    "\n",
    "# untuk melihat hasilnya kita panggil nama variabelnya yang kita pakai untuk menyimpan hasil pemangkasan tadi\n",
    "measurement"
   ]
  },
  {
   "cell_type": "markdown",
   "metadata": {},
   "source": [
    "<p style=\"text-align: justify; font-size: 12px\">Note: Untuk penjelasan lebih detail bisa kunjungi <a href=\"http://scikit-learn.org/stable/modules/neighbors.html\">link ini!</a></p>\n",
    "\n",
    "<p style=\"text-align: justify\">Untuk selanjutnya kita menggunakan modul dari sklearn untuk menentukan jaraknya dengan command seperti berikut:</p>"
   ]
  },
  {
   "cell_type": "code",
   "execution_count": 52,
   "metadata": {},
   "outputs": [],
   "source": [
    "# Sebenarnya commandnya cukup panjang, maka kita bagi dua saja\n",
    "# bentuk asli: NearestNeighbors(n_neighbors=2, algorithm='ball_tree').fit(measurement).kneighbors(measurement)\n",
    "# perhatikan variabel \"nbrs\", itu adalah sebagai pembagi biar ga panjang saja\n",
    "\n",
    "# n_neighbors menyatakan nilai dari berapa titik yang akan kita cari jaraknya\n",
    "# 2 berati hanya satu titik terdekat saja, jika 3 maka ada dua titik terdekatnya, dan seterusnya\n",
    "# algorithm menentukan algoritma apa yang kita pakai, bisa kunjungi dokumentasi website untuk penjelasan lebih detail\n",
    "# .fit() dibutuhkan untuk membangun data yang diperlukan oleh algoritma 'ball_tree' yang kita pilih\n",
    "\n",
    "nbrs = NearestNeighbors(n_neighbors=2, algorithm='ball_tree').fit(measurement)\n",
    "distances, indices = nbrs.kneighbors(measurement)"
   ]
  },
  {
   "cell_type": "markdown",
   "metadata": {},
   "source": [
    "<p style=\"text-align: justify\">Output ada 2, kita simpan ke variabel yang bernama distances dan indices. Distances adalah jarak terdekat ke tetangga sedangkan indices adalah yang menyimpan data mana yang dekat dengan data mana</p>\n",
    "\n",
    "<p style=\"text-align: justify; font-size: 12px\">Note: Untuk info mengenai parameter dan attribute nearest neighbor bisa kunjungi <a href=\"http://scikit-learn.org/stable/modules/generated/sklearn.neighbors.KNeighborsClassifier.html\">link ini!</a></p>\n",
    "\n"
   ]
  },
  {
   "cell_type": "code",
   "execution_count": 50,
   "metadata": {
    "scrolled": true
   },
   "outputs": [
    {
     "data": {
      "text/plain": [
       "array([[0, 2],\n",
       "       [1, 3],\n",
       "       [2, 4],\n",
       "       [3, 6],\n",
       "       [4, 2],\n",
       "       [5, 4],\n",
       "       [6, 7],\n",
       "       [7, 6]], dtype=int64)"
      ]
     },
     "execution_count": 50,
     "metadata": {},
     "output_type": "execute_result"
    }
   ],
   "source": [
    "indices"
   ]
  },
  {
   "cell_type": "markdown",
   "metadata": {},
   "source": [
    "<p style=\"text-align: justify\">Index nomor 0 ternyata paling dekat dengan data index nomor 2. Index nomor 1 dekatnya dengan data index nomor 3, dan seterusnya</p>"
   ]
  },
  {
   "cell_type": "code",
   "execution_count": 51,
   "metadata": {},
   "outputs": [
    {
     "data": {
      "text/plain": [
       "array([[0.        , 7.07106781],\n",
       "       [0.        , 5.83095189],\n",
       "       [0.        , 3.60555128],\n",
       "       [0.        , 2.82842712],\n",
       "       [0.        , 3.60555128],\n",
       "       [0.        , 3.60555128],\n",
       "       [0.        , 2.23606798],\n",
       "       [0.        , 2.23606798]])"
      ]
     },
     "execution_count": 51,
     "metadata": {},
     "output_type": "execute_result"
    }
   ],
   "source": [
    "distances"
   ]
  },
  {
   "cell_type": "markdown",
   "metadata": {},
   "source": [
    "<p style=\"text-align: justify\">Sesuai dengan urutan index dari yang paling atas dan sesuai dengan identitas indices yang sudah kita ketahui: Jarak index nomor 0 memiliki jarak 7.07~ dengan tetangga terdekatnya, index nomor 1 memiliki jarak 5.83~ dengan tetangga terdekatnya, dan seterusnya.</p>\n",
    "\n",
    "<hr>"
   ]
  },
  {
   "cell_type": "markdown",
   "metadata": {},
   "source": [
    "<h4>Sumber referensi:</h4>\n",
    "<ul style=\"font-size: 12px\">\n",
    "    <li>https://www.kaggle.com/mjbahmani/20-ml-algorithms-from-start-to-finish/notebook</li>\n",
    "    <li>https://www.advernesia.com/blog/data-science/pengertian-dan-cara-kerja-algoritma-k-nearest-neighbours-knn/</li>\n",
    "    <li>http://scikit-learn.org/stable/modules/generated/sklearn.neighbors.KNeighborsClassifier.html</li>\n",
    "    <li>http://scikit-learn.org/stable/modules/neighbors.html</li>\n",
    "</ul>\n",
    "\n",
    "<hr>\n",
    "<p style=\"color: purple; text-align: justify\"><strong><i>Very important note:</i></strong><br/>Bagi teman-teman yang mengalami kendala memahami materi atau bagi yang ingin sekedar sharing ilmu pengetahuan teknis mengenai apa yang kita pelajari di kelas, mari sempatkan sesekali hadir di kegiatan diskusi luar kelas. Hubungi ketua kelas untuk informasi lebih lanjut! <i>We will be so happy to have you</i> :)</p>\n",
    "<hr>\n",
    "\n",
    "<p style=\"color: green;\"><strong><i>Note:</i></strong><br/>Teman-teman yang punya pertanyaan bisa disampaikan ke saya langsung, temukan kontak saya di grup WhatsApp <i>\"Digital Talent 2018\"</i>. Kritik dan saran juga sangat dibutuhkan, selalu terbuka untuk diskusi (bisa tentang apapun hhe). Terima kasih :) <br><i>Happy learning!</i></p>"
   ]
  },
  {
   "cell_type": "code",
   "execution_count": null,
   "metadata": {},
   "outputs": [],
   "source": []
  }
 ],
 "metadata": {
  "kernelspec": {
   "display_name": "Python 3",
   "language": "python",
   "name": "python3"
  },
  "language_info": {
   "codemirror_mode": {
    "name": "ipython",
    "version": 3
   },
   "file_extension": ".py",
   "mimetype": "text/x-python",
   "name": "python",
   "nbconvert_exporter": "python",
   "pygments_lexer": "ipython3",
   "version": "3.6.7"
  }
 },
 "nbformat": 4,
 "nbformat_minor": 2
}
