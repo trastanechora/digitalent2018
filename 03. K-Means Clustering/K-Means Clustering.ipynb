{
 "cells": [
  {
   "cell_type": "markdown",
   "metadata": {},
   "source": [
    "<table style=\"float: right\">\n",
    "    <tr></tr>\n",
    "    <tr>\n",
    "        <td><img src=\"https://digitalent.kominfo.go.id/res/kampus-kominfo.clr.png\" style=\"width: 30px;\"></td>\n",
    "        <td><img src=\"https://digitalent.kominfo.go.id/res/kampus-its.clr.png\" style=\"width: 30px;\"></td>\n",
    "        <td><img src=\"https://img-prod-cms-rt-microsoft-com.akamaized.net/cms/api/am/imageFileData/RE1Mu3b?ver=5c31\" style=\"width: 80px;\"></td>\n",
    "    </tr>\n",
    "</table>\n",
    "<br><br>\n",
    "<p style=\"text-align: right\"><i>Dirangkum oleh: <a href=\"https://www.linkedin.com/in/trastanechora/\" style=\"color: green;\"><strong>Maestro Trastanechora</strong></a></i></p>"
   ]
  },
  {
   "cell_type": "markdown",
   "metadata": {},
   "source": [
    "<hr>\n",
    "<p style=\"font-size: 10px\">Download catatan .ipynb atau HTML via <a href=\"https://drive.google.com/drive/folders/1Bo-FOqeZhzbVNjeVI97hXpR8RkhkwYEP?usp=sharing\"><strong>Google Drive</strong></a> atau <a href=\"https://github.com/trastanechora/digitalent2018\"><strong>GitHub</strong></a> <br>\n",
    "Or share it online with love via <a href=\"https://nbviewer.jupyter.org/github/trastanechora/digitalent2018/blob/master/02.%20K-Nearest%20Neighbors%20%28KNN%29/K-Nearest%20Neighbors%20%28KNN%29.ipynb\"><strong>this link :)</strong></a></p>\n",
    "\n",
    "<br>\n",
    "\n",
    "<h1 style=\"text-align: center\">K-Means Clustering</h1>\n",
    "<p style=\"text-align: right\">05-11-2018</p>\n",
    "\n",
    "<br>\n",
    "<hr>"
   ]
  },
  {
   "cell_type": "markdown",
   "metadata": {},
   "source": [
    "<p style=\"text-align: justify\">Pada catatan kali ini, kita akan berusaha belajar bagaimana K-Means Clustering bekerja, bagaimana caranya mengukur kualitas dari sebuah kluster, menentukan berapa banyak K, dan juga sedikit membahas algoritma pengklusteran lain.</p>\n",
    "\n",
    "<p style=\"text-align: justify\"><i>So, Let's start!</i></p>\n"
   ]
  },
  {
   "cell_type": "markdown",
   "metadata": {},
   "source": [
    "<h3>Konsep</h3>\n",
    "\n",
    "<p style=\"text-align: justify\">Bayangkan jika kita akan membuka usaha toko buku. Modal kita satu kardus besar buku-buku, dan kita punya 3 rak untuk menampilkannya. Misi pertama kita adalah meletakkan buku-buku yang serupa atau memiliki hubungan isi ke suatu rak buku. Mungkin pada umumnya kita akan ambil 3 buku yang berbeda dari kardus dan meletakkannya masing-masing di satu rak buku sebagai sampel, berdasarkan 3 buku inilah kita akan memisahkan buku-buku yang ada di kardus tadi.</p>\n",
    "\n",
    "<p style=\"text-align: justify\">Setiap kali kita mengambil buku dari kardusnya, kita akan membandingkan di antara 3 buku yang ada di rak tadi mana yang lebih mirip, kemudian meletakkan bukunya ke rak tersebut, dan hingga seterusnya sampai semuanya tertata di rak buku dan tidak ada yang tersisa di kardus.</p>\n",
    "\n",
    "<p style=\"text-align: justify\">Namun setelah selesai, kita mungkin menyadari bahwa ada beberapa buku yang kurang nyambung dengan ketiga rak tersebut namun dipaksakan masuk, akhirnya kita dengan perasaan kurang puas beli satu rak buku lagi. Mengganti tema di setiap rak buku sebelumnya dan mengosongkan ulang rak-rak tersebut kemudian memulai pemilihan dari awal dengan harapan bisa memamerkan buku-buku sesuai kelompoknya ke bakal-pembeli lebih baik.</p>\n",
    "\n",
    "<p style=\"text-align: justify\">Kurang lebih algoritma K-Means bekerja seperti itu.</p>"
   ]
  },
  {
   "cell_type": "markdown",
   "metadata": {},
   "source": [
    "<h3>Algoritma</h3>\n",
    "\n",
    "<p style=\"text-align: justify\">K-Means mrupakan metode pencarian kluster yang sangat bagus untuk memulai eksplorasi dataset yang belum memiliki label. yang dimaksud dengan \"K\" di dalam K-Means adalah banyaknya kluster. Algoritma ini yang nantinya akan menghasilkan suatu titik tertentu setelah sekian banyak iterasi yang dilakukan. Dibagi menjadi 4 langkah dasar:</p>\n",
    "\n",
    "<ol>\n",
    "    <li>Tentukan Sentroid (titik tengah/inti) dari klusternya (Di contoh yang ada di atas, pilih 3 buku sebagai perwakilan pembeda tema untuk setiap rak buku)</li>\n",
    "    <li>Masukkan data ke dalam kluster (Letakkan semua buku yang ada di kardus ke raknya masing-masing)</li>\n",
    "    <li>Perbarui Sentroid dari klusternya dengan data yang lebih akurat (Mengulang langkah di atas dengan 3 buku awal yang berbeda)</li>\n",
    "    <li>Ulang langkah 2 - 3 sampai kondisi yang diinginkan tercapai (Satu perulangan disebut satu iterasi).</li>\n",
    "</ol>\n",
    "\n",
    "<p style=\"text-align: justify\">Kita tidak harus memulai dengan 3 kluster di awal, namun biasanya 2-3 kluster adalah awal yang baik untuk memulai pengklusteran dan setelah itu bisa disesuaikan setelah melihat hasil awalnya.</p>"
   ]
  },
  {
   "cell_type": "markdown",
   "metadata": {},
   "source": [
    "<img src=\"https://cdn-images-1.medium.com/max/800/1*xkuet4YVglp8KWsK90bfRw.gif\">"
   ]
  },
  {
   "cell_type": "markdown",
   "metadata": {},
   "source": [
    "<h3>1. Menentukan Kluster dan Sentroidnya</h3>\n",
    "<p style=\"font-size: 12px\"><i>Initialize K & Centroids</i></p>\n",
    "\n",
    "<p style=\"text-align: justify\">Sebagai permulaanya, kita beri tahu sistem untuk menampilkan atau membagi ke beberapa kluster (boleh ngasal, tapi jangan ngawur hehe). Kemudian modelnya mengambil nilai K tadi, katakanlah K=3 dan men-generate 3 titik sebagai sentroid dari masing-masing kluster.</p>\n",
    "\n",
    "<p style=\"text-align: justify\"><i>Note: ada beberapa cara untuk menentukan sentroid awal, bisa dengan random atau sortir manual dengan melihat sekilas isi datasetnya -- memisahkan dan mengira-ngira berapa porsi data yang akan dibagi menjadi berapa kelompok.</i></p>\n"
   ]
  },
  {
   "cell_type": "markdown",
   "metadata": {},
   "source": [
    "<h3>2. Mencocokkan Kluster Terhadap Setiap Dataset</h3>\n",
    "<p style=\"font-size: 12px\"><i>Assigning Clusters to datapoints</i></p>\n",
    "\n",
    "<p style=\"text-align: justify\">Dari sini dan seterusnya, sistem model akan melakukan perhitungannya otomatis dan memisahkan datapoint (dalam gambar di atas sebut saja satu titik) ke dalam kelompoknya masing-masing. Model kita ini akan menghitung jarak antara data dan semua sentroid yang ada, dan kemudian akan mengelompokkan data tersebut ke kluster yang memiliki sentroid terdekat dengannya. Biasanya ada beberapa cara penghitungan jarak; setiap metode punya pro dan kontranya, namun di sini kita akan pakai <i>L2 distance</i> (atau yang sering disebut juga sebagai Euclidean distance).</p>\n",
    "\n",
    "<p style=\"text-align: justify\">Perhatikan gambar berikut di bawah ini, menunjukan bagaimana proses kalkulasi L2 antara sentroid dengan datapoint. Setiap kali sebuah datapoint dimasukkan ke dalam kelompok kluster, langkah di bawah ini akan terus diulang sampai tidak ada lagi datapoint yang tersisa.</p>\n",
    "\n",
    "<img src=\"https://cdn-images-1.medium.com/max/800/1*q2DjVeZIlLmLcKXDQJ9yEA.png\">"
   ]
  },
  {
   "cell_type": "markdown",
   "metadata": {},
   "source": [
    "<h3>3. Penyesuaian Sentroid</h3>\n",
    "<p style=\"font-size: 12px\"><i>Updating Centroids</i></p>\n",
    "\n",
    "<p style=\"text-align: justify\">Karena titik sentroid awal ditentukan sembarang oleh model, maka selama pada iterasi yang telah ditentukan, model akan terus menambah keakurasian titik sentroid dengan menggesernya mendekati titik tumpu di suatu kluster. Titik sentroid ini diperbaharui sesuai dengan rata-rata atau mean dari seluruh datapoint yang ada di suatu kluster.</p>\n",
    "\n",
    "<img src=\"https://cdn-images-1.medium.com/max/800/1*25LCusv4wAWPxfa7zJoOYA.png\">\n",
    "\n",
    "<p style=\"text-align: justify\">Selain algoritma K-Means, ada juga K-Mode dan K-Median. Sesuai dengan namanya, kedua algoritma yang lain tersebut menggunakan modus atau median untuk menentukan letak sentroidnya.</p>"
   ]
  },
  {
   "cell_type": "markdown",
   "metadata": {},
   "source": [
    "<h3>4. Menentukan kondisi untuk berhenti</h3>\n",
    "<p style=\"font-size: 12px\"><i>Stopping Criterion</i></p>\n",
    "\n",
    "<p style=\"text-align: justify\">Karena langkah nomor 2 dan 3 dilakukan secara berulang, jika kita tidak menentukan kondisi tertentu di mana model harus berhenti, maka perulangannya akan berjalan selamanya. Syarat untuk berhenti ini yang akan memberi tahu algoritma model supaya berhenti melakukan perulangan. Penting juga untuk diatat bahwa menentukan syarat berhenti ini bukan harus mendapatkan pengelompokan kluster yang terbaik, tapi cukup dengan ketika kita sudah merasa mendapatkan pengelompokan kluster yang cukup baik. Yang terpenting adalah menghentikan iterasinya pada step ini</p>\n",
    "\n",
    "<p style=\"text-align: justify\">Menentukan kondisi bisa dengan beberapa cara, bahkan bisa juga dengan dua atau lebih sekalipun kondisinya, jika terpenuhi maka akan menghentikan iterasinya dan mengeluarkan hasilnya. Beberapa syarat kondisi berhenti yang sering digunakan antara lain:</p>\n",
    "\n",
    "<ol>\n",
    "    <li>Sebagian banyak datapoint yang ada di suatu kluster sudah tidak berubah (atau memerlukan waktu terlalu lama untuk berubah)</li>\n",
    "    <li>Sentroid sudah menetap pada satu titik yang sama</li>\n",
    "    <li>Jarak antara datapoint dan sentroid yang ada sudah minimum</li>\n",
    "    <li>Jumlah iterasi yang sudah kita tentukan sudah tercapai (Jika kita menentukan iterasi yang terlalu sedikit maka hasilnya akan kurang baik, maka harus ditentukan dengan bijak.)</li>\n",
    "</ol>"
   ]
  },
  {
   "cell_type": "markdown",
   "metadata": {},
   "source": [
    "<h3>Mengevaluasi Kualitas dari sebuah Kluster</h3>\n",
    "\n",
    "<p style=\"text-align: justify\">Karena dari awal tujuan utama bukan hanya sekedar membuat sekumpulan kluster, tapi juga membuat kluster yang bagus, bisa dipahami dan memiliki karakteristik pemisah yang kuat.</p>\n",
    "\n",
    "<p style=\"text-align: justify\">Ada dua metode untuk mengukur kualitas kluster, antara lain yaitu:</p>\n",
    "\n",
    "<ol>\n",
    "    <li><strong><i>Inertia</i></strong>: Inersia menunjukkan seberapa jauh titik-titik di sekitar kluster. Semakin kecil nilai inersianya maka akan semakin bagus. Nilai dari inersia dimulai dari 0 dan semakin naik.</li>\n",
    "    <li><strong><i>Silhouette score</i></strong>: Menujukkan seberapa jauh datapoint di dalam sebuah kluster, dan juga dari datapoint di kluster yang lain. Nilai dari Silhouette score adalah antara -1 sampai 1. Nilai yang lebih baik mendekati angka 1.</li>\n",
    "</ol>"
   ]
  },
  {
   "cell_type": "markdown",
   "metadata": {},
   "source": [
    "<h3>Jadi.. Berapa Kluster?</h3>\n",
    "\n",
    "<p style=\"text-align: justify\">Kita harus menentukan secara manual ke berapa kluster data-data akan dipisahkan. Ada beberapa metode untuk menentukan nilai K yang optimal. Salah satu caranya adalah dengan melihat plot grafik scatter kemudian menentukan langsung dengan tanda-tanda jarak antar titiknya. Sebagai contoh, kita bisa melihat grafik di bawah ini, menentukan 3 kluster untuk pengelompokan titik-titik tersebut adalah keputusan yang baik, bukan?</p>\n",
    "\n",
    "<img src=\"https://cdn-images-1.medium.com/max/800/1*dCn1eA4pf-SPzAWz-pIN5A.png\">\n",
    "\n",
    "<p style=\"text-align: justify\">Sedangkan cara yang lain adalah dengan menggunakan nilai inersia. Ide yang menjadi dasar dari sebuah pengklusteran yang baik adalah memiliki inersia yang kecil dan kluster yang sedikit.</p>\n",
    "\n",
    "<p style=\"text-align: justify\">Nilai dari inersia akan berkurang seiring jumlah kluster bertambah. Jadi, kita harus menemukan titik perpotongan terbaik di sini. Aturan jari Jempol (Rule of thumb lol): Ada sebuah titik yang disebut dengan \"elbow point\", dari grafik di bawah ini kita bisa mengamati perubahan nilai kemudian kita perlu menentukan dimana titik penurunan inersia yang sudah tidak begitu tajam.</p>\n",
    "\n",
    "<img src=\"https://cdn-images-1.medium.com/max/800/1*xOGY4uu6ng7E8lPLP-onWw.png\">"
   ]
  },
  {
   "cell_type": "markdown",
   "metadata": {},
   "source": [
    "<h3>Menamai Kluster</h3>\n",
    "\n",
    "<p style=\"text-align: justify\">Ketika sudah terbentuk kluster-kluster, kita beri itu nama, dan selamat datapoint yang sudah memiliki kluster sudah berlabel! Kita bisa lanjut ke tahap pengetesan dengan label yang kita beri. Untuk memperyakin, kita bisa mengeceknya setelah data terlabeli, apakah anggota kluster satu dengan yang lain memiliki pola/ciri-ciri yang membedakan.</p>\n",
    "\n",
    "<h3>Harus tahu!</h3>\n",
    "\n",
    "<p style=\"text-align: justify\">Sangat penting untuk memproses data kita sebelum menggunakan metode K-Means ini. Kita harus merubah nilai yang ada di dalam dataset menjadi angka jika masih dalam bentuk tulisan (string/object). Karena komputasi adalah penghitungan berbasis angka, mesin hanya mampu mengolah data yang sudah diterjemahkan menjadi angka. Selain itu, memangkas data yang tidak perlu juga bisa mereduksi waktu penghitungan bahkan dapat juga menambah akurasi.</p>"
   ]
  },
  {
   "cell_type": "markdown",
   "metadata": {},
   "source": [
    "<h4>Sumber referensi:</h4>\n",
    "<ul style=\"font-size: 12px\">\n",
    "    <li>https://www.kaggle.com/mjbahmani/20-ml-algorithms-from-start-to-finish/notebook</li>\n",
    "    <li>https://towardsdatascience.com/k-means-clustering-from-a-to-z-f6242a314e9a</li>\n",
    "</ul>\n",
    "\n",
    "<hr>\n",
    "<p style=\"color: purple; text-align: justify\"><strong><i>Very important note:</i></strong><br/>Bagi teman-teman yang mengalami kendala memahami materi atau bagi yang ingin sekedar sharing ilmu pengetahuan teknis mengenai apa yang kita pelajari di kelas, mari sempatkan sesekali hadir di kegiatan diskusi luar kelas. Hubungi ketua kelas untuk informasi lebih lanjut! <i>We will be so happy to have you</i> :)</p>\n",
    "<hr>\n",
    "\n",
    "<p style=\"color: green;\"><strong><i>Note:</i></strong><br/>Teman-teman yang punya pertanyaan bisa disampaikan ke saya langsung, temukan kontak saya di grup WhatsApp <i>\"Digital Talent 2018\"</i>. Kritik dan saran juga sangat dibutuhkan, selalu terbuka untuk diskusi (bisa tentang apapun hhe). Terima kasih :) <br><i>Happy learning!</i></p>"
   ]
  },
  {
   "cell_type": "code",
   "execution_count": null,
   "metadata": {},
   "outputs": [],
   "source": []
  }
 ],
 "metadata": {
  "kernelspec": {
   "display_name": "Python 3",
   "language": "python",
   "name": "python3"
  },
  "language_info": {
   "codemirror_mode": {
    "name": "ipython",
    "version": 3
   },
   "file_extension": ".py",
   "mimetype": "text/x-python",
   "name": "python",
   "nbconvert_exporter": "python",
   "pygments_lexer": "ipython3",
   "version": "3.6.7"
  }
 },
 "nbformat": 4,
 "nbformat_minor": 2
}
